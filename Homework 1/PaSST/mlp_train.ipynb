{
 "cells": [
  {
   "cell_type": "code",
   "execution_count": 8,
   "metadata": {},
   "outputs": [],
   "source": [
    "import os\n",
    "import sys\n",
    "import numpy as np\n",
    "import pandas as pd\n",
    "from tqdm import tqdm\n",
    "import matplotlib.pyplot as plt\n",
    "import pickle\n",
    "import argparse\n",
    "from sklearn.neural_network import MLPClassifier\n",
    "from sklearn.metrics import *\n",
    "\n",
    "import torch\n",
    "sys.path.append(\".\")"
   ]
  },
  {
   "cell_type": "code",
   "execution_count": 3,
   "metadata": {},
   "outputs": [],
   "source": [
    "import torch\n",
    "import torch.nn as nn\n",
    "from torch.utils.data import Dataset, DataLoader\n",
    "from torch.optim import *"
   ]
  },
  {
   "cell_type": "code",
   "execution_count": 28,
   "metadata": {},
   "outputs": [],
   "source": [
    "with open('passt_feat_train.pkl', 'rb') as f:\n",
    "    train_dataset = pickle.load(f)\n",
    "with open('passt_label_train.pkl', 'rb') as f:\n",
    "    train_label = pickle.load(f)\n",
    "    \n",
    "with open('passt_feat_val.pkl', 'rb') as f:\n",
    "    val_dataset = pickle.load(f)\n",
    "with open('passt_label_val.pkl', 'rb') as f:\n",
    "    val_label = pickle.load(f) \n",
    "    \n",
    "with open('passt_feat_test.pkl', 'rb') as f:\n",
    "    test_dataset = pickle.load(f)\n",
    "with open('passt_label_test.pkl', 'rb') as f:\n",
    "    test_label = pickle.load(f) "
   ]
  },
  {
   "cell_type": "code",
   "execution_count": 30,
   "metadata": {},
   "outputs": [
    {
     "name": "stdout",
     "output_type": "stream",
     "text": [
      "torch.Size([5738, 1295])\n",
      "torch.Size([1759, 1295])\n",
      "torch.Size([749, 1295])\n"
     ]
    }
   ],
   "source": [
    "print(train_dataset.shape)\n",
    "print(val_dataset.shape)\n",
    "print(test_dataset.shape)"
   ]
  },
  {
   "cell_type": "code",
   "execution_count": 60,
   "metadata": {},
   "outputs": [
    {
     "data": {
      "text/plain": [
       "MLPClassifier(alpha=0.001, hidden_layer_sizes=(2048, 2048, 2048, 2048),\n",
       "              learning_rate_init=0.0005)"
      ]
     },
     "execution_count": 60,
     "metadata": {},
     "output_type": "execute_result"
    }
   ],
   "source": [
    "clf = MLPClassifier(hidden_layer_sizes=(2048, 2048, 2048, 2048), activation='relu', solver='adam', alpha=1e-3, learning_rate_init = 0.0005)\n",
    "clf.fit(train_dataset[:], train_label[:])"
   ]
  },
  {
   "cell_type": "code",
   "execution_count": 61,
   "metadata": {},
   "outputs": [],
   "source": [
    "# validation test\n",
    "pred_classes = clf.predict(val_dataset)\n",
    "accuracy = accuracy_score(val_label, pred_classes)"
   ]
  },
  {
   "cell_type": "code",
   "execution_count": 62,
   "metadata": {},
   "outputs": [
    {
     "data": {
      "text/plain": [
       "0.7146105741898806"
      ]
     },
     "execution_count": 62,
     "metadata": {},
     "output_type": "execute_result"
    }
   ],
   "source": [
    "accuracy"
   ]
  },
  {
   "cell_type": "code",
   "execution_count": null,
   "metadata": {},
   "outputs": [],
   "source": []
  },
  {
   "cell_type": "markdown",
   "metadata": {},
   "source": [
    "### Test"
   ]
  },
  {
   "cell_type": "code",
   "execution_count": 63,
   "metadata": {},
   "outputs": [],
   "source": [
    "pred_classes = clf.predict(test_dataset)"
   ]
  },
  {
   "cell_type": "code",
   "execution_count": 64,
   "metadata": {},
   "outputs": [],
   "source": [
    "test_df = pd.read_csv('../labels/test_for_students.csv')\n",
    "video_ids = list(test_df.Id)\n",
    "\n",
    "with open('passt.mlp.csv', 'w') as f:\n",
    "    f.writelines(\"Id,Category\\n\")\n",
    "    for i, pred_class in enumerate(pred_classes):\n",
    "        f.writelines(\"%s,%d\\n\" % (video_ids[i], pred_class))\n",
    "    "
   ]
  },
  {
   "cell_type": "code",
   "execution_count": 65,
   "metadata": {},
   "outputs": [
    {
     "name": "stdout",
     "output_type": "stream",
     "text": [
      "Warning: Your Kaggle API key is readable by other users on this system! To fix this, you can run 'chmod 600 /home/jiin/.kaggle/kaggle.json'\n",
      "Warning: Looks like you're using an outdated API Version, please consider updating (server 1.5.12 / client 1.5.8)\n",
      "100%|██████████████████████████████████████| 22.7k/22.7k [00:03<00:00, 7.12kB/s]\n",
      "Successfully submitted to HW1 Audio-based MED"
     ]
    }
   ],
   "source": [
    "!kaggle competitions submit -c hw1-audio-based-med -f passt.mlp.csv -m \"Message\""
   ]
  },
  {
   "cell_type": "code",
   "execution_count": null,
   "metadata": {},
   "outputs": [],
   "source": []
  }
 ],
 "metadata": {
  "kernelspec": {
   "display_name": "Python 3",
   "language": "python",
   "name": "python3"
  },
  "language_info": {
   "codemirror_mode": {
    "name": "ipython",
    "version": 3
   },
   "file_extension": ".py",
   "mimetype": "text/x-python",
   "name": "python",
   "nbconvert_exporter": "python",
   "pygments_lexer": "ipython3",
   "version": "3.8.8"
  },
  "vscode": {
   "interpreter": {
    "hash": "1a57ea99128cb9cda106ae9412adaa259fbd6364806b681dd046ce8028342a29"
   }
  }
 },
 "nbformat": 4,
 "nbformat_minor": 4
}
